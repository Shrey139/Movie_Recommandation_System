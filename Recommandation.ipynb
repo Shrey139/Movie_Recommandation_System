{
 "cells": [
  {
   "cell_type": "code",
   "execution_count": 1,
   "metadata": {},
   "outputs": [],
   "source": [
    "import pandas as pd"
   ]
  },
  {
   "cell_type": "code",
   "execution_count": 12,
   "metadata": {},
   "outputs": [
    {
     "data": {
      "text/html": [
       "<div>\n",
       "<style scoped>\n",
       "    .dataframe tbody tr th:only-of-type {\n",
       "        vertical-align: middle;\n",
       "    }\n",
       "\n",
       "    .dataframe tbody tr th {\n",
       "        vertical-align: top;\n",
       "    }\n",
       "\n",
       "    .dataframe thead th {\n",
       "        text-align: right;\n",
       "    }\n",
       "</style>\n",
       "<table border=\"1\" class=\"dataframe\">\n",
       "  <thead>\n",
       "    <tr style=\"text-align: right;\">\n",
       "      <th></th>\n",
       "      <th>Movie_name</th>\n",
       "      <th>Actors</th>\n",
       "      <th>Crtitic_ratings</th>\n",
       "      <th>Release date &amp; duration</th>\n",
       "      <th>User_ratings</th>\n",
       "      <th>Language</th>\n",
       "      <th>Movie_type</th>\n",
       "    </tr>\n",
       "  </thead>\n",
       "  <tbody>\n",
       "    <tr>\n",
       "      <td>0</td>\n",
       "      <td>Good Newwz</td>\n",
       "      <td>Akshay Kumar, Kareena Kapoor, Diljit Dosanjh, ...</td>\n",
       "      <td>3.5</td>\n",
       "      <td>27 Dec 2019 | 2 hrs 14 mins</td>\n",
       "      <td>3.4</td>\n",
       "      <td>Hindi</td>\n",
       "      <td>Comedy, Drama | UA</td>\n",
       "    </tr>\n",
       "    <tr>\n",
       "      <td>1</td>\n",
       "      <td>Dabangg 3</td>\n",
       "      <td>Salman Khan, Sonakshi Sinha, Arbaaz Khan, Kich...</td>\n",
       "      <td>3.0</td>\n",
       "      <td>20 Dec 2019 | 2 hrs 23 mins</td>\n",
       "      <td>3.2</td>\n",
       "      <td>Hindi, Telugu, Kannada, Tamil</td>\n",
       "      <td>Action, Romance, Thriller | UA</td>\n",
       "    </tr>\n",
       "    <tr>\n",
       "      <td>2</td>\n",
       "      <td>Sound Of Water</td>\n",
       "      <td>Ramesh Goyal, Chetan Sharma, Abraam Pandey, Ja...</td>\n",
       "      <td>3.4</td>\n",
       "      <td>13 Dec 2019 | 2 hrs 25 mins</td>\n",
       "      <td>NaN</td>\n",
       "      <td>Hindi</td>\n",
       "      <td>Drama</td>\n",
       "    </tr>\n",
       "    <tr>\n",
       "      <td>3</td>\n",
       "      <td>The Body</td>\n",
       "      <td>Emraan Hashmi, Rishi Kapoor, Vedhika, Sobhita ...</td>\n",
       "      <td>2.5</td>\n",
       "      <td>13 Dec 2019 | 2 hrs 15 mins</td>\n",
       "      <td>2.8</td>\n",
       "      <td>Hindi</td>\n",
       "      <td>Drama | UA</td>\n",
       "    </tr>\n",
       "    <tr>\n",
       "      <td>4</td>\n",
       "      <td>Mudda 370 J&amp;K</td>\n",
       "      <td>Hiten Tejwani, Manoj Joshi, Raj Zutshi, Zarina...</td>\n",
       "      <td>1.0</td>\n",
       "      <td>13 Dec 2019 | 2 hrs 12 mins</td>\n",
       "      <td>1.7</td>\n",
       "      <td>Hindi</td>\n",
       "      <td>Drama | A</td>\n",
       "    </tr>\n",
       "    <tr>\n",
       "      <td>5</td>\n",
       "      <td>Kanoon Ke Khiladi</td>\n",
       "      <td>Hemant Birje, Gulshan Pandey, Anil Yadav</td>\n",
       "      <td>2.8</td>\n",
       "      <td>13 Dec 2019 | 2 hrs 6 mins</td>\n",
       "      <td>NaN</td>\n",
       "      <td>Hindi</td>\n",
       "      <td>Drama | UA</td>\n",
       "    </tr>\n",
       "    <tr>\n",
       "      <td>6</td>\n",
       "      <td>Unfriends</td>\n",
       "      <td>Rajat Rawail, Himayat Ali, Mousumi Biswas, Naf...</td>\n",
       "      <td>1.0</td>\n",
       "      <td>13 Dec 2019 | 2 hrs 10 mins</td>\n",
       "      <td>1.7</td>\n",
       "      <td>Hindi</td>\n",
       "      <td>Drama | UA</td>\n",
       "    </tr>\n",
       "    <tr>\n",
       "      <td>7</td>\n",
       "      <td>Mardaani 2</td>\n",
       "      <td>Rani Mukerji, Shruti Bapna, Rajesh Sharma, Jis...</td>\n",
       "      <td>3.5</td>\n",
       "      <td>13 Dec 2019 | 2 hrs 2 mins</td>\n",
       "      <td>3.4</td>\n",
       "      <td>Hindi</td>\n",
       "      <td>Action, Crime, Thriller | UA</td>\n",
       "    </tr>\n",
       "    <tr>\n",
       "      <td>8</td>\n",
       "      <td>Panipat</td>\n",
       "      <td>Sanjay Dutt, Kriti Sanon, Arjun Kapoor, Padmin...</td>\n",
       "      <td>3.5</td>\n",
       "      <td>06 Dec 2019 | 2 hrs 53 mins</td>\n",
       "      <td>3.3</td>\n",
       "      <td>Hindi</td>\n",
       "      <td>Drama, Action, History | U</td>\n",
       "    </tr>\n",
       "    <tr>\n",
       "      <td>9</td>\n",
       "      <td>A Gift Of Love: Sifar</td>\n",
       "      <td>Sudha Chandran, Kanikka Kapur, Mushtaq Khan, A...</td>\n",
       "      <td>1.5</td>\n",
       "      <td>06 Dec 2019 | 1 hr 39 mins</td>\n",
       "      <td>NaN</td>\n",
       "      <td>Hindi</td>\n",
       "      <td>Drama,Romantic | UA</td>\n",
       "    </tr>\n",
       "  </tbody>\n",
       "</table>\n",
       "</div>"
      ],
      "text/plain": [
       "              Movie_name                                             Actors  \\\n",
       "0             Good Newwz  Akshay Kumar, Kareena Kapoor, Diljit Dosanjh, ...   \n",
       "1              Dabangg 3  Salman Khan, Sonakshi Sinha, Arbaaz Khan, Kich...   \n",
       "2         Sound Of Water  Ramesh Goyal, Chetan Sharma, Abraam Pandey, Ja...   \n",
       "3               The Body  Emraan Hashmi, Rishi Kapoor, Vedhika, Sobhita ...   \n",
       "4          Mudda 370 J&K  Hiten Tejwani, Manoj Joshi, Raj Zutshi, Zarina...   \n",
       "5      Kanoon Ke Khiladi           Hemant Birje, Gulshan Pandey, Anil Yadav   \n",
       "6              Unfriends  Rajat Rawail, Himayat Ali, Mousumi Biswas, Naf...   \n",
       "7             Mardaani 2  Rani Mukerji, Shruti Bapna, Rajesh Sharma, Jis...   \n",
       "8                Panipat  Sanjay Dutt, Kriti Sanon, Arjun Kapoor, Padmin...   \n",
       "9  A Gift Of Love: Sifar  Sudha Chandran, Kanikka Kapur, Mushtaq Khan, A...   \n",
       "\n",
       "   Crtitic_ratings      Release date & duration  User_ratings  \\\n",
       "0              3.5  27 Dec 2019 | 2 hrs 14 mins           3.4   \n",
       "1              3.0  20 Dec 2019 | 2 hrs 23 mins           3.2   \n",
       "2              3.4  13 Dec 2019 | 2 hrs 25 mins           NaN   \n",
       "3              2.5  13 Dec 2019 | 2 hrs 15 mins           2.8   \n",
       "4              1.0  13 Dec 2019 | 2 hrs 12 mins           1.7   \n",
       "5              2.8   13 Dec 2019 | 2 hrs 6 mins           NaN   \n",
       "6              1.0  13 Dec 2019 | 2 hrs 10 mins           1.7   \n",
       "7              3.5   13 Dec 2019 | 2 hrs 2 mins           3.4   \n",
       "8              3.5  06 Dec 2019 | 2 hrs 53 mins           3.3   \n",
       "9              1.5   06 Dec 2019 | 1 hr 39 mins           NaN   \n",
       "\n",
       "                        Language                      Movie_type  \n",
       "0                          Hindi              Comedy, Drama | UA  \n",
       "1  Hindi, Telugu, Kannada, Tamil  Action, Romance, Thriller | UA  \n",
       "2                          Hindi                           Drama  \n",
       "3                          Hindi                      Drama | UA  \n",
       "4                          Hindi                       Drama | A  \n",
       "5                          Hindi                      Drama | UA  \n",
       "6                          Hindi                      Drama | UA  \n",
       "7                          Hindi    Action, Crime, Thriller | UA  \n",
       "8                          Hindi      Drama, Action, History | U  \n",
       "9                          Hindi             Drama,Romantic | UA  "
      ]
     },
     "execution_count": 12,
     "metadata": {},
     "output_type": "execute_result"
    }
   ],
   "source": [
    "df = pd.read_csv('2019_Movies.csv')\n",
    "df.head(10)"
   ]
  },
  {
   "cell_type": "code",
   "execution_count": 13,
   "metadata": {},
   "outputs": [
    {
     "data": {
      "text/plain": [
       "<bound method NDFrame.describe of                      Movie_name  \\\n",
       "0                    Good Newwz   \n",
       "1                     Dabangg 3   \n",
       "2                Sound Of Water   \n",
       "3                      The Body   \n",
       "4                 Mudda 370 J&K   \n",
       "..                          ...   \n",
       "219    URI: The Surgical Strike   \n",
       "220                 Salt Bridge   \n",
       "221                 Dharma Bhai   \n",
       "222            Kanpur Ke Sholay   \n",
       "223  English Ki Taay Taay Fisss   \n",
       "\n",
       "                                                Actors  Crtitic_ratings  \\\n",
       "0    Akshay Kumar, Kareena Kapoor, Diljit Dosanjh, ...              3.5   \n",
       "1    Salman Khan, Sonakshi Sinha, Arbaaz Khan, Kich...              3.0   \n",
       "2    Ramesh Goyal, Chetan Sharma, Abraam Pandey, Ja...              3.4   \n",
       "3    Emraan Hashmi, Rishi Kapoor, Vedhika, Sobhita ...              2.5   \n",
       "4    Hiten Tejwani, Manoj Joshi, Raj Zutshi, Zarina...              1.0   \n",
       "..                                                 ...              ...   \n",
       "219  Vicky Kaushal, Yami Gautam, Kirti Kulhari, Vik...              4.0   \n",
       "220  Rajeev Khandelwal, Usha Jadhav, Chelsie Presto...              3.0   \n",
       "221  Sai Dharam Tej, Lavanya Tripathi, Ashish Vidya...              4.3   \n",
       "222          Ajay Tripathi, Gulfam Khan, Alam Siddiqui              2.8   \n",
       "223  Rajpal Yadav, Sunil Pal, Manoj Joshi, Viju Kho...              3.7   \n",
       "\n",
       "         Release date & duration  User_ratings                       Language  \\\n",
       "0    27 Dec 2019 | 2 hrs 14 mins           3.4                          Hindi   \n",
       "1    20 Dec 2019 | 2 hrs 23 mins           3.2  Hindi, Telugu, Kannada, Tamil   \n",
       "2    13 Dec 2019 | 2 hrs 25 mins           NaN                          Hindi   \n",
       "3    13 Dec 2019 | 2 hrs 15 mins           2.8                          Hindi   \n",
       "4    13 Dec 2019 | 2 hrs 12 mins           1.7                          Hindi   \n",
       "..                           ...           ...                            ...   \n",
       "219  11 Jan 2019 | 2 hrs 18 mins           4.7                          Hindi   \n",
       "220   04 Jan 2019 | 1 hr 46 mins           2.9                          Hindi   \n",
       "221  04 Jan 2019 | 2 hrs 19 mins           NaN                          Hindi   \n",
       "222   04 Jan 2019 | 2 hrs 5 mins           NaN                          Hindi   \n",
       "223  03 Jan 2019 | 2 hrs 10 mins           NaN                          Hindi   \n",
       "\n",
       "                         Movie_type  \n",
       "0                Comedy, Drama | UA  \n",
       "1    Action, Romance, Thriller | UA  \n",
       "2                             Drama  \n",
       "3                        Drama | UA  \n",
       "4                         Drama | A  \n",
       "..                              ...  \n",
       "219         Drama, Action, War | UA  \n",
       "220                       Drama | U  \n",
       "221                     Action | UA  \n",
       "222                Drama,Action | A  \n",
       "223             Romance,Comedy | UA  \n",
       "\n",
       "[224 rows x 7 columns]>"
      ]
     },
     "execution_count": 13,
     "metadata": {},
     "output_type": "execute_result"
    }
   ],
   "source": [
    "df.describe"
   ]
  },
  {
   "cell_type": "code",
   "execution_count": 14,
   "metadata": {},
   "outputs": [
    {
     "data": {
      "text/plain": [
       "Index(['Movie_name', 'Actors', 'Crtitic_ratings', 'Release date & duration',\n",
       "       'User_ratings', 'Language', 'Movie_type'],\n",
       "      dtype='object')"
      ]
     },
     "execution_count": 14,
     "metadata": {},
     "output_type": "execute_result"
    }
   ],
   "source": [
    "df.columns"
   ]
  },
  {
   "cell_type": "code",
   "execution_count": 18,
   "metadata": {},
   "outputs": [
    {
     "name": "stdout",
     "output_type": "stream",
     "text": [
      "2.793273542600897\n"
     ]
    }
   ],
   "source": [
    "C = df['Crtitic_ratings'].mean()\n",
    "print(C)"
   ]
  },
  {
   "cell_type": "code",
   "execution_count": 19,
   "metadata": {},
   "outputs": [
    {
     "name": "stdout",
     "output_type": "stream",
     "text": [
      "3.7\n"
     ]
    }
   ],
   "source": [
    "m =df['Crtitic_ratings'].quantile(0.90)\n",
    "print(m)"
   ]
  },
  {
   "cell_type": "code",
   "execution_count": 20,
   "metadata": {},
   "outputs": [
    {
     "data": {
      "text/plain": [
       "(24, 7)"
      ]
     },
     "execution_count": 20,
     "metadata": {},
     "output_type": "execute_result"
    }
   ],
   "source": [
    "q_movies = df.copy().loc[df['Crtitic_ratings'] >= m]\n",
    "q_movies.shape"
   ]
  },
  {
   "cell_type": "code",
   "execution_count": 27,
   "metadata": {},
   "outputs": [],
   "source": [
    "def weighted_rating(x, m=m, C=C):\n",
    "    v = x['User_ratings']\n",
    "    R = x['Crtitic_ratings']\n",
    "    # Calculation based on the IMDB formula\n",
    "    return (v/(v+m) * R) + (m/(m+v) * C)"
   ]
  },
  {
   "cell_type": "code",
   "execution_count": 22,
   "metadata": {},
   "outputs": [],
   "source": [
    "q_movies['score'] = q_movies.apply(weighted_rating, axis=1)"
   ]
  },
  {
   "cell_type": "code",
   "execution_count": 23,
   "metadata": {},
   "outputs": [],
   "source": [
    "q_movies['score'] = q_movies.apply(weighted_rating, axis=1)"
   ]
  },
  {
   "cell_type": "code",
   "execution_count": 28,
   "metadata": {},
   "outputs": [
    {
     "data": {
      "text/html": [
       "<div>\n",
       "<style scoped>\n",
       "    .dataframe tbody tr th:only-of-type {\n",
       "        vertical-align: middle;\n",
       "    }\n",
       "\n",
       "    .dataframe tbody tr th {\n",
       "        vertical-align: top;\n",
       "    }\n",
       "\n",
       "    .dataframe thead th {\n",
       "        text-align: right;\n",
       "    }\n",
       "</style>\n",
       "<table border=\"1\" class=\"dataframe\">\n",
       "  <thead>\n",
       "    <tr style=\"text-align: right;\">\n",
       "      <th></th>\n",
       "      <th>Movie_name</th>\n",
       "      <th>User_ratings</th>\n",
       "      <th>Crtitic_ratings</th>\n",
       "      <th>score</th>\n",
       "    </tr>\n",
       "  </thead>\n",
       "  <tbody>\n",
       "    <tr>\n",
       "      <td>29</td>\n",
       "      <td>Bala</td>\n",
       "      <td>4.2</td>\n",
       "      <td>4.0</td>\n",
       "      <td>3.434824</td>\n",
       "    </tr>\n",
       "    <tr>\n",
       "      <td>32</td>\n",
       "      <td>Ekta</td>\n",
       "      <td>NaN</td>\n",
       "      <td>4.2</td>\n",
       "      <td>NaN</td>\n",
       "    </tr>\n",
       "    <tr>\n",
       "      <td>62</td>\n",
       "      <td>Section 375</td>\n",
       "      <td>4.0</td>\n",
       "      <td>4.0</td>\n",
       "      <td>3.420144</td>\n",
       "    </tr>\n",
       "    <tr>\n",
       "      <td>86</td>\n",
       "      <td>Meri Bhagya Laxmi</td>\n",
       "      <td>NaN</td>\n",
       "      <td>3.7</td>\n",
       "      <td>NaN</td>\n",
       "    </tr>\n",
       "    <tr>\n",
       "      <td>100</td>\n",
       "      <td>Article 15</td>\n",
       "      <td>4.3</td>\n",
       "      <td>4.0</td>\n",
       "      <td>3.441889</td>\n",
       "    </tr>\n",
       "    <tr>\n",
       "      <td>158</td>\n",
       "      <td>Kesari</td>\n",
       "      <td>4.5</td>\n",
       "      <td>4.0</td>\n",
       "      <td>3.455501</td>\n",
       "    </tr>\n",
       "    <tr>\n",
       "      <td>160</td>\n",
       "      <td>The Pushkar Lodge</td>\n",
       "      <td>NaN</td>\n",
       "      <td>3.8</td>\n",
       "      <td>NaN</td>\n",
       "    </tr>\n",
       "    <tr>\n",
       "      <td>161</td>\n",
       "      <td>Bindi</td>\n",
       "      <td>NaN</td>\n",
       "      <td>3.7</td>\n",
       "      <td>NaN</td>\n",
       "    </tr>\n",
       "    <tr>\n",
       "      <td>167</td>\n",
       "      <td>Hamid</td>\n",
       "      <td>3.7</td>\n",
       "      <td>4.0</td>\n",
       "      <td>3.396637</td>\n",
       "    </tr>\n",
       "    <tr>\n",
       "      <td>173</td>\n",
       "      <td>Suspense</td>\n",
       "      <td>NaN</td>\n",
       "      <td>3.7</td>\n",
       "      <td>NaN</td>\n",
       "    </tr>\n",
       "    <tr>\n",
       "      <td>176</td>\n",
       "      <td>God Of Gods</td>\n",
       "      <td>NaN</td>\n",
       "      <td>4.7</td>\n",
       "      <td>NaN</td>\n",
       "    </tr>\n",
       "    <tr>\n",
       "      <td>181</td>\n",
       "      <td>Number Game</td>\n",
       "      <td>NaN</td>\n",
       "      <td>4.0</td>\n",
       "      <td>NaN</td>\n",
       "    </tr>\n",
       "    <tr>\n",
       "      <td>183</td>\n",
       "      <td>Operation Cobra</td>\n",
       "      <td>NaN</td>\n",
       "      <td>4.1</td>\n",
       "      <td>NaN</td>\n",
       "    </tr>\n",
       "    <tr>\n",
       "      <td>186</td>\n",
       "      <td>Gully Boy</td>\n",
       "      <td>4.3</td>\n",
       "      <td>4.0</td>\n",
       "      <td>3.441889</td>\n",
       "    </tr>\n",
       "    <tr>\n",
       "      <td>193</td>\n",
       "      <td>Parking Closed</td>\n",
       "      <td>NaN</td>\n",
       "      <td>4.2</td>\n",
       "      <td>NaN</td>\n",
       "    </tr>\n",
       "  </tbody>\n",
       "</table>\n",
       "</div>"
      ],
      "text/plain": [
       "            Movie_name  User_ratings  Crtitic_ratings     score\n",
       "29                Bala           4.2              4.0  3.434824\n",
       "32                Ekta           NaN              4.2       NaN\n",
       "62         Section 375           4.0              4.0  3.420144\n",
       "86   Meri Bhagya Laxmi           NaN              3.7       NaN\n",
       "100         Article 15           4.3              4.0  3.441889\n",
       "158             Kesari           4.5              4.0  3.455501\n",
       "160  The Pushkar Lodge           NaN              3.8       NaN\n",
       "161              Bindi           NaN              3.7       NaN\n",
       "167              Hamid           3.7              4.0  3.396637\n",
       "173           Suspense           NaN              3.7       NaN\n",
       "176        God Of Gods           NaN              4.7       NaN\n",
       "181        Number Game           NaN              4.0       NaN\n",
       "183    Operation Cobra           NaN              4.1       NaN\n",
       "186          Gully Boy           4.3              4.0  3.441889\n",
       "193     Parking Closed           NaN              4.2       NaN"
      ]
     },
     "execution_count": 28,
     "metadata": {},
     "output_type": "execute_result"
    }
   ],
   "source": [
    "q_movies[['Movie_name', 'User_ratings', 'Crtitic_ratings', 'score']].head(15)"
   ]
  },
  {
   "cell_type": "code",
   "execution_count": 37,
   "metadata": {},
   "outputs": [
    {
     "data": {
      "text/plain": [
       "0        Good Newwz\n",
       "1         Dabangg 3\n",
       "2    Sound Of Water\n",
       "3          The Body\n",
       "4     Mudda 370 J&K\n",
       "Name: Movie_name, dtype: object"
      ]
     },
     "execution_count": 37,
     "metadata": {},
     "output_type": "execute_result"
    }
   ],
   "source": [
    "df['Movie_name'].head()"
   ]
  },
  {
   "cell_type": "code",
   "execution_count": 32,
   "metadata": {},
   "outputs": [],
   "source": [
    "from sklearn.feature_extraction.text import TfidfVectorizer\n",
    "tfidf = TfidfVectorizer(stop_words='english')\n",
    "df['Movie_namee'] = df['Movie_name'].fillna('')"
   ]
  },
  {
   "cell_type": "code",
   "execution_count": 33,
   "metadata": {},
   "outputs": [],
   "source": [
    "tfidf_matrix = tfidf.fit_transform(df['Movie_name'])"
   ]
  },
  {
   "cell_type": "code",
   "execution_count": 35,
   "metadata": {},
   "outputs": [
    {
     "data": {
      "text/plain": [
       "(14332, 13602)"
      ]
     },
     "execution_count": 35,
     "metadata": {},
     "output_type": "execute_result"
    }
   ],
   "source": [
    "tfidf_matrix.shape"
   ]
  },
  {
   "cell_type": "code",
   "execution_count": 34,
   "metadata": {},
   "outputs": [],
   "source": [
    "from sklearn.metrics.pairwise import linear_kernel\n",
    "cosine_sim = linear_kernel(tfidf_matrix, tfidf_matrix)"
   ]
  },
  {
   "cell_type": "code",
   "execution_count": 29,
   "metadata": {},
   "outputs": [],
   "source": [
    "indices = pd.Series(df.index, index=df['Movie_name']).drop_duplicates()"
   ]
  },
  {
   "cell_type": "code",
   "execution_count": 36,
   "metadata": {},
   "outputs": [],
   "source": [
    "def get_recommendations(title, cosine_sim=cosine_sim):\n",
    "    idx = indices[title]\n",
    "\n",
    "    sim_scores = list(enumerate(cosine_sim[idx]))\n",
    "\n",
    "    sim_scores = sorted(sim_scores, key=lambda x: x[1], reverse=True)\n",
    "\n",
    "    sim_scores = sim_scores[1:11]\n",
    "\n",
    "    movie_indices = [i[0] for i in sim_scores]\n",
    "\n",
    "    return df['Movie_name'].iloc[movie_indices]"
   ]
  },
  {
   "cell_type": "code",
   "execution_count": 38,
   "metadata": {},
   "outputs": [
    {
     "data": {
      "text/plain": [
       "1                 Dabangg 3\n",
       "2            Sound Of Water\n",
       "3                  The Body\n",
       "4             Mudda 370 J&K\n",
       "5         Kanoon Ke Khiladi\n",
       "6                 Unfriends\n",
       "7                Mardaani 2\n",
       "8                   Panipat\n",
       "9     A Gift Of Love: Sifar\n",
       "10       Pati Patni Aur Woh\n",
       "Name: Movie_name, dtype: object"
      ]
     },
     "execution_count": 38,
     "metadata": {},
     "output_type": "execute_result"
    }
   ],
   "source": [
    "get_recommendations('Good Newwz')"
   ]
  },
  {
   "cell_type": "code",
   "execution_count": null,
   "metadata": {},
   "outputs": [],
   "source": []
  }
 ],
 "metadata": {
  "kernelspec": {
   "display_name": "Python 3",
   "language": "python",
   "name": "python3"
  },
  "language_info": {
   "codemirror_mode": {
    "name": "ipython",
    "version": 3
   },
   "file_extension": ".py",
   "mimetype": "text/x-python",
   "name": "python",
   "nbconvert_exporter": "python",
   "pygments_lexer": "ipython3",
   "version": "3.7.4"
  }
 },
 "nbformat": 4,
 "nbformat_minor": 2
}
